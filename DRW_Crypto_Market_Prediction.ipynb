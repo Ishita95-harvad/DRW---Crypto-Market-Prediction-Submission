{
 "cells": [
  {
   "cell_type": "code",
   "execution_count": 1,
   "id": "34c937fe",
   "metadata": {
    "execution": {
     "iopub.execute_input": "2025-07-24T19:03:31.553518Z",
     "iopub.status.busy": "2025-07-24T19:03:31.552289Z",
     "iopub.status.idle": "2025-07-24T19:03:36.634100Z",
     "shell.execute_reply": "2025-07-24T19:03:36.633029Z"
    },
    "papermill": {
     "duration": 5.08933,
     "end_time": "2025-07-24T19:03:36.635712",
     "exception": false,
     "start_time": "2025-07-24T19:03:31.546382",
     "status": "completed"
    },
    "tags": []
   },
   "outputs": [
    {
     "name": "stdout",
     "output_type": "stream",
     "text": [
      "submission.csv created with shape: (538150, 2)\n"
     ]
    }
   ],
   "source": [
    "# DRW - Crypto Market Prediction Submission Template\n",
    "\n",
    "import numpy as np\n",
    "import pandas as pd\n",
    "\n",
    "# ✅ Step 1: Define total number of prediction rows\n",
    "NUM_ROWS = 538150  # As per competition requirement\n",
    "\n",
    "# ✅ Step 2: Create the submission dataframe\n",
    "submission = pd.DataFrame({\n",
    "    'row_id': np.arange(NUM_ROWS),\n",
    "    'label': np.random.normal(loc=0.0, scale=0.001, size=NUM_ROWS)  # Placeholder prediction values\n",
    "})\n",
    "\n",
    "# ✅ Step 3: Save to CSV (for direct submission)\n",
    "submission.to_csv(\"submission.csv\", index=False)\n",
    "\n",
    "# ✅ Step 4 (Optional): Save to ZIP if you want to upload that format\n",
    "import zipfile\n",
    "\n",
    "with zipfile.ZipFile(\"submission.zip\", \"w\", zipfile.ZIP_DEFLATED) as zipf:\n",
    "    zipf.write(\"submission.csv\")\n",
    "\n",
    "# Output confirmation\n",
    "print(\"submission.csv created with shape:\", submission.shape)\n"
   ]
  },
  {
   "cell_type": "code",
   "execution_count": 2,
   "id": "64d7d17d",
   "metadata": {
    "execution": {
     "iopub.execute_input": "2025-07-24T19:03:36.642734Z",
     "iopub.status.busy": "2025-07-24T19:03:36.642452Z",
     "iopub.status.idle": "2025-07-24T19:03:39.499047Z",
     "shell.execute_reply": "2025-07-24T19:03:39.497936Z"
    },
    "papermill": {
     "duration": 2.861766,
     "end_time": "2025-07-24T19:03:39.500732",
     "exception": false,
     "start_time": "2025-07-24T19:03:36.638966",
     "status": "completed"
    },
    "tags": []
   },
   "outputs": [
    {
     "name": "stdout",
     "output_type": "stream",
     "text": [
      "/kaggle/input/drw-crypto-market-prediction/sample_submission.csv\n",
      "/kaggle/input/drw-crypto-market-prediction/train.parquet\n",
      "/kaggle/input/drw-crypto-market-prediction/test.parquet\n",
      "✅ submission.csv saved at /kaggle/working/submission.csv with shape (538150, 2)\n",
      "✅ submission.zip created at /kaggle/working/submission.zip\n"
     ]
    }
   ],
   "source": [
    "# DRW - Crypto Market Prediction - Submission Generator\n",
    "\n",
    "import numpy as np\n",
    "import pandas as pd\n",
    "import os\n",
    "import zipfile\n",
    "\n",
    "# List all input files\n",
    "for dirname, _, filenames in os.walk('/kaggle/input'):\n",
    "    for filename in filenames:\n",
    "        print(os.path.join(dirname, filename))\n",
    "\n",
    "# STEP 1: Set required number of rows from the competition\n",
    "NUM_ROWS = 538150  # Make sure this is exact\n",
    "\n",
    "# STEP 2: Generate placeholder predictions (replace this later with model output)\n",
    "submission_df = pd.DataFrame({\n",
    "    'row_id': np.arange(NUM_ROWS),\n",
    "    'label': np.random.normal(loc=0.0, scale=0.001, size=NUM_ROWS)  # Simulated returns\n",
    "})\n",
    "\n",
    "# STEP 3: Save CSV for submission\n",
    "submission_csv_path = '/kaggle/working/submission.csv'\n",
    "submission_df.to_csv(submission_csv_path, index=False)\n",
    "print(f\"✅ submission.csv saved at {submission_csv_path} with shape {submission_df.shape}\")\n",
    "\n",
    "# OPTIONAL: Create a ZIP file (if preferred)\n",
    "submission_zip_path = '/kaggle/working/submission.zip'\n",
    "with zipfile.ZipFile(submission_zip_path, 'w', zipfile.ZIP_DEFLATED) as zipf:\n",
    "    zipf.write(submission_csv_path, arcname='submission.csv')\n",
    "print(f\"✅ submission.zip created at {submission_zip_path}\")\n"
   ]
  },
  {
   "cell_type": "code",
   "execution_count": 3,
   "id": "fe78532c",
   "metadata": {
    "execution": {
     "iopub.execute_input": "2025-07-24T19:03:39.507814Z",
     "iopub.status.busy": "2025-07-24T19:03:39.507496Z",
     "iopub.status.idle": "2025-07-24T19:03:40.901111Z",
     "shell.execute_reply": "2025-07-24T19:03:40.899853Z"
    },
    "papermill": {
     "duration": 1.399426,
     "end_time": "2025-07-24T19:03:40.903170",
     "exception": false,
     "start_time": "2025-07-24T19:03:39.503744",
     "status": "completed"
    },
    "tags": []
   },
   "outputs": [],
   "source": [
    "submission_df.to_csv('/kaggle/working/submission.csv', index=False)\n"
   ]
  },
  {
   "cell_type": "code",
   "execution_count": 4,
   "id": "a64565da",
   "metadata": {
    "execution": {
     "iopub.execute_input": "2025-07-24T19:03:40.920633Z",
     "iopub.status.busy": "2025-07-24T19:03:40.920320Z",
     "iopub.status.idle": "2025-07-24T19:03:40.927619Z",
     "shell.execute_reply": "2025-07-24T19:03:40.926357Z"
    },
    "papermill": {
     "duration": 0.023258,
     "end_time": "2025-07-24T19:03:40.929225",
     "exception": false,
     "start_time": "2025-07-24T19:03:40.905967",
     "status": "completed"
    },
    "tags": []
   },
   "outputs": [
    {
     "name": "stdout",
     "output_type": "stream",
     "text": [
      "/kaggle/input/drw-crypto-market-prediction/sample_submission.csv\n",
      "/kaggle/input/drw-crypto-market-prediction/train.parquet\n",
      "/kaggle/input/drw-crypto-market-prediction/test.parquet\n"
     ]
    }
   ],
   "source": [
    "import os\n",
    "\n",
    "for dirname, _, filenames in os.walk('/kaggle/input'):\n",
    "    for filename in filenames:\n",
    "        print(os.path.join(dirname, filename))\n"
   ]
  },
  {
   "cell_type": "code",
   "execution_count": 5,
   "id": "46b55f8f",
   "metadata": {
    "execution": {
     "iopub.execute_input": "2025-07-24T19:03:40.936561Z",
     "iopub.status.busy": "2025-07-24T19:03:40.936291Z",
     "iopub.status.idle": "2025-07-24T19:03:46.477661Z",
     "shell.execute_reply": "2025-07-24T19:03:46.476272Z"
    },
    "papermill": {
     "duration": 5.546815,
     "end_time": "2025-07-24T19:03:46.479401",
     "exception": false,
     "start_time": "2025-07-24T19:03:40.932586",
     "status": "completed"
    },
    "tags": []
   },
   "outputs": [
    {
     "name": "stdout",
     "output_type": "stream",
     "text": [
      "Requirement already satisfied: kaggle in /usr/local/lib/python3.11/dist-packages (1.7.4.5)\r\n",
      "Requirement already satisfied: bleach in /usr/local/lib/python3.11/dist-packages (from kaggle) (6.2.0)\r\n",
      "Requirement already satisfied: certifi>=14.05.14 in /usr/local/lib/python3.11/dist-packages (from kaggle) (2025.6.15)\r\n",
      "Requirement already satisfied: charset-normalizer in /usr/local/lib/python3.11/dist-packages (from kaggle) (3.4.2)\r\n",
      "Requirement already satisfied: idna in /usr/local/lib/python3.11/dist-packages (from kaggle) (3.10)\r\n",
      "Requirement already satisfied: protobuf in /usr/local/lib/python3.11/dist-packages (from kaggle) (3.20.3)\r\n",
      "Requirement already satisfied: python-dateutil>=2.5.3 in /usr/local/lib/python3.11/dist-packages (from kaggle) (2.9.0.post0)\r\n",
      "Requirement already satisfied: python-slugify in /usr/local/lib/python3.11/dist-packages (from kaggle) (8.0.4)\r\n",
      "Requirement already satisfied: requests in /usr/local/lib/python3.11/dist-packages (from kaggle) (2.32.4)\r\n",
      "Requirement already satisfied: setuptools>=21.0.0 in /usr/local/lib/python3.11/dist-packages (from kaggle) (75.2.0)\r\n",
      "Requirement already satisfied: six>=1.10 in /usr/local/lib/python3.11/dist-packages (from kaggle) (1.17.0)\r\n",
      "Requirement already satisfied: text-unidecode in /usr/local/lib/python3.11/dist-packages (from kaggle) (1.3)\r\n",
      "Requirement already satisfied: tqdm in /usr/local/lib/python3.11/dist-packages (from kaggle) (4.67.1)\r\n",
      "Requirement already satisfied: urllib3>=1.15.1 in /usr/local/lib/python3.11/dist-packages (from kaggle) (2.5.0)\r\n",
      "Requirement already satisfied: webencodings in /usr/local/lib/python3.11/dist-packages (from kaggle) (0.5.1)\r\n",
      "Note: you may need to restart the kernel to use updated packages.\n"
     ]
    }
   ],
   "source": [
    "pip install kaggle\n"
   ]
  },
  {
   "cell_type": "code",
   "execution_count": 6,
   "id": "25ad3f44",
   "metadata": {
    "execution": {
     "iopub.execute_input": "2025-07-24T19:03:46.487008Z",
     "iopub.status.busy": "2025-07-24T19:03:46.486618Z",
     "iopub.status.idle": "2025-07-24T19:03:46.495736Z",
     "shell.execute_reply": "2025-07-24T19:03:46.494913Z"
    },
    "papermill": {
     "duration": 0.014834,
     "end_time": "2025-07-24T19:03:46.497296",
     "exception": false,
     "start_time": "2025-07-24T19:03:46.482462",
     "status": "completed"
    },
    "tags": []
   },
   "outputs": [
    {
     "data": {
      "text/plain": [
       "{'id': 'ishitabahamnia/DRW - Crypto Market Prediction Submission Template',\n",
       " 'title': 'My DRW Crypto Submission',\n",
       " 'code_file': 'DRW - Crypto Market Prediction Submission Template.ipynb',\n",
       " 'language': 'python',\n",
       " 'kernel_type': 'notebook',\n",
       " 'is_private': 'true'}"
      ]
     },
     "execution_count": 6,
     "metadata": {},
     "output_type": "execute_result"
    }
   ],
   "source": [
    "{\n",
    "  \"id\": \"ishitabahamnia/DRW - Crypto Market Prediction Submission Template\",\n",
    "  \"title\": \"My DRW Crypto Submission\",\n",
    "  \"code_file\": \"DRW - Crypto Market Prediction Submission Template.ipynb\",\n",
    "  \"language\": \"python\",\n",
    "  \"kernel_type\": \"notebook\",\n",
    "  \"is_private\": \"true\"\n",
    "}\n"
   ]
  },
  {
   "cell_type": "code",
   "execution_count": 7,
   "id": "c7d30357",
   "metadata": {
    "execution": {
     "iopub.execute_input": "2025-07-24T19:03:46.504942Z",
     "iopub.status.busy": "2025-07-24T19:03:46.504556Z",
     "iopub.status.idle": "2025-07-24T19:03:46.554063Z",
     "shell.execute_reply": "2025-07-24T19:03:46.553136Z"
    },
    "papermill": {
     "duration": 0.055649,
     "end_time": "2025-07-24T19:03:46.556059",
     "exception": false,
     "start_time": "2025-07-24T19:03:46.500410",
     "status": "completed"
    },
    "tags": []
   },
   "outputs": [],
   "source": [
    "import pandas as pd\n",
    "import numpy as np\n",
    "\n",
    "# Simulate training dataset\n",
    "np.random.seed(42)\n",
    "n_rows = 5000\n",
    "df_train = pd.DataFrame({\n",
    "    \"ID\": np.arange(1, n_rows + 1),\n",
    "    \"feature1\": np.random.randn(n_rows),\n",
    "    \"feature2\": np.random.rand(n_rows) * 100,\n",
    "    \"feature3\": np.random.randint(0, 2, n_rows),\n",
    "    \"label\": np.random.randint(0, 2, n_rows)\n",
    "})\n",
    "\n",
    "# Simulate test dataset\n",
    "n_test_rows = 2000\n",
    "df_test = pd.DataFrame({\n",
    "    \"ID\": np.arange(10001, 10001 + n_test_rows),\n",
    "    \"feature1\": np.random.randn(n_test_rows),\n",
    "    \"feature2\": np.random.rand(n_test_rows) * 100,\n",
    "    \"feature3\": np.random.randint(0, 2, n_test_rows)\n",
    "})\n",
    "\n",
    "# Save locally\n",
    "df_train.to_csv(\"train.csv\", index=False)\n",
    "df_test.to_csv(\"test.csv\", index=False)\n"
   ]
  },
  {
   "cell_type": "code",
   "execution_count": 8,
   "id": "191297cc",
   "metadata": {
    "execution": {
     "iopub.execute_input": "2025-07-24T19:03:46.564693Z",
     "iopub.status.busy": "2025-07-24T19:03:46.563691Z",
     "iopub.status.idle": "2025-07-24T19:03:46.569608Z",
     "shell.execute_reply": "2025-07-24T19:03:46.568782Z"
    },
    "papermill": {
     "duration": 0.012052,
     "end_time": "2025-07-24T19:03:46.571512",
     "exception": false,
     "start_time": "2025-07-24T19:03:46.559460",
     "status": "completed"
    },
    "tags": []
   },
   "outputs": [
    {
     "data": {
      "text/plain": [
       "'First LSTM model with precomputed features'"
      ]
     },
     "execution_count": 8,
     "metadata": {},
     "output_type": "execute_result"
    }
   ],
   "source": [
    "\"First LSTM model with precomputed features\"\n",
    "\n"
   ]
  },
  {
   "cell_type": "code",
   "execution_count": 9,
   "id": "cd963bcf",
   "metadata": {
    "execution": {
     "iopub.execute_input": "2025-07-24T19:03:46.579851Z",
     "iopub.status.busy": "2025-07-24T19:03:46.579489Z",
     "iopub.status.idle": "2025-07-24T19:05:16.252204Z",
     "shell.execute_reply": "2025-07-24T19:05:16.250613Z"
    },
    "papermill": {
     "duration": 89.679057,
     "end_time": "2025-07-24T19:05:16.254234",
     "exception": false,
     "start_time": "2025-07-24T19:03:46.575177",
     "status": "completed"
    },
    "tags": []
   },
   "outputs": [
    {
     "name": "stderr",
     "output_type": "stream",
     "text": [
      "2025-07-24 19:03:48.662034: E external/local_xla/xla/stream_executor/cuda/cuda_fft.cc:477] Unable to register cuFFT factory: Attempting to register factory for plugin cuFFT when one has already been registered\n",
      "WARNING: All log messages before absl::InitializeLog() is called are written to STDERR\n",
      "E0000 00:00:1753383828.952508      13 cuda_dnn.cc:8310] Unable to register cuDNN factory: Attempting to register factory for plugin cuDNN when one has already been registered\n",
      "E0000 00:00:1753383829.032369      13 cuda_blas.cc:1418] Unable to register cuBLAS factory: Attempting to register factory for plugin cuBLAS when one has already been registered\n"
     ]
    },
    {
     "name": "stdout",
     "output_type": "stream",
     "text": [
      "Downloading data from https://storage.googleapis.com/tensorflow/tf-keras-datasets/train-labels-idx1-ubyte.gz\n",
      "\u001b[1m29515/29515\u001b[0m \u001b[32m━━━━━━━━━━━━━━━━━━━━\u001b[0m\u001b[37m\u001b[0m \u001b[1m0s\u001b[0m 0us/step\n",
      "Downloading data from https://storage.googleapis.com/tensorflow/tf-keras-datasets/train-images-idx3-ubyte.gz\n",
      "\u001b[1m26421880/26421880\u001b[0m \u001b[32m━━━━━━━━━━━━━━━━━━━━\u001b[0m\u001b[37m\u001b[0m \u001b[1m0s\u001b[0m 0us/step\n",
      "Downloading data from https://storage.googleapis.com/tensorflow/tf-keras-datasets/t10k-labels-idx1-ubyte.gz\n",
      "\u001b[1m5148/5148\u001b[0m \u001b[32m━━━━━━━━━━━━━━━━━━━━\u001b[0m\u001b[37m\u001b[0m \u001b[1m0s\u001b[0m 0us/step\n",
      "Downloading data from https://storage.googleapis.com/tensorflow/tf-keras-datasets/t10k-images-idx3-ubyte.gz\n",
      "\u001b[1m4422102/4422102\u001b[0m \u001b[32m━━━━━━━━━━━━━━━━━━━━\u001b[0m\u001b[37m\u001b[0m \u001b[1m0s\u001b[0m 0us/step\n"
     ]
    },
    {
     "name": "stderr",
     "output_type": "stream",
     "text": [
      "/usr/local/lib/python3.11/dist-packages/keras/src/layers/reshaping/flatten.py:37: UserWarning: Do not pass an `input_shape`/`input_dim` argument to a layer. When using Sequential models, prefer using an `Input(shape)` object as the first layer in the model instead.\n",
      "  super().__init__(**kwargs)\n",
      "2025-07-24 19:04:07.962199: E external/local_xla/xla/stream_executor/cuda/cuda_driver.cc:152] failed call to cuInit: INTERNAL: CUDA error: Failed call to cuInit: UNKNOWN ERROR (303)\n"
     ]
    },
    {
     "name": "stdout",
     "output_type": "stream",
     "text": [
      "Epoch 1/10\n",
      "\u001b[1m1875/1875\u001b[0m \u001b[32m━━━━━━━━━━━━━━━━━━━━\u001b[0m\u001b[37m\u001b[0m \u001b[1m8s\u001b[0m 4ms/step - accuracy: 0.7862 - loss: 0.6171\n",
      "Epoch 2/10\n",
      "\u001b[1m1875/1875\u001b[0m \u001b[32m━━━━━━━━━━━━━━━━━━━━\u001b[0m\u001b[37m\u001b[0m \u001b[1m6s\u001b[0m 3ms/step - accuracy: 0.8637 - loss: 0.3875\n",
      "Epoch 3/10\n",
      "\u001b[1m1875/1875\u001b[0m \u001b[32m━━━━━━━━━━━━━━━━━━━━\u001b[0m\u001b[37m\u001b[0m \u001b[1m6s\u001b[0m 3ms/step - accuracy: 0.8769 - loss: 0.3409\n",
      "Epoch 4/10\n",
      "\u001b[1m1875/1875\u001b[0m \u001b[32m━━━━━━━━━━━━━━━━━━━━\u001b[0m\u001b[37m\u001b[0m \u001b[1m7s\u001b[0m 3ms/step - accuracy: 0.8888 - loss: 0.3087\n",
      "Epoch 5/10\n",
      "\u001b[1m1875/1875\u001b[0m \u001b[32m━━━━━━━━━━━━━━━━━━━━\u001b[0m\u001b[37m\u001b[0m \u001b[1m6s\u001b[0m 3ms/step - accuracy: 0.8907 - loss: 0.2970\n",
      "Epoch 6/10\n",
      "\u001b[1m1875/1875\u001b[0m \u001b[32m━━━━━━━━━━━━━━━━━━━━\u001b[0m\u001b[37m\u001b[0m \u001b[1m7s\u001b[0m 3ms/step - accuracy: 0.8957 - loss: 0.2819\n",
      "Epoch 7/10\n",
      "\u001b[1m1875/1875\u001b[0m \u001b[32m━━━━━━━━━━━━━━━━━━━━\u001b[0m\u001b[37m\u001b[0m \u001b[1m7s\u001b[0m 3ms/step - accuracy: 0.9002 - loss: 0.2648\n",
      "Epoch 8/10\n",
      "\u001b[1m1875/1875\u001b[0m \u001b[32m━━━━━━━━━━━━━━━━━━━━\u001b[0m\u001b[37m\u001b[0m \u001b[1m6s\u001b[0m 3ms/step - accuracy: 0.9043 - loss: 0.2546\n",
      "Epoch 9/10\n",
      "\u001b[1m1875/1875\u001b[0m \u001b[32m━━━━━━━━━━━━━━━━━━━━\u001b[0m\u001b[37m\u001b[0m \u001b[1m7s\u001b[0m 4ms/step - accuracy: 0.9089 - loss: 0.2405\n",
      "Epoch 10/10\n",
      "\u001b[1m1875/1875\u001b[0m \u001b[32m━━━━━━━━━━━━━━━━━━━━\u001b[0m\u001b[37m\u001b[0m \u001b[1m7s\u001b[0m 4ms/step - accuracy: 0.9058 - loss: 0.2431\n",
      "313/313 - 1s - 3ms/step - accuracy: 0.8821 - loss: 0.3465\n",
      "\n",
      "Test accuracy: 0.882099986076355\n"
     ]
    }
   ],
   "source": [
    "import tensorflow as tf\n",
    "from tensorflow import keras\n",
    "fashion_mnist = keras.datasets.fashion_mnist\n",
    "## use Fashion MNIST data set for example\n",
    "(train_images, train_labels), (test_images, test_labels) = fashion_mnist.load_data()\n",
    "train_images = train_images / 255.0\n",
    "\n",
    "test_images = test_images / 255.0\n",
    "model = keras.Sequential([\n",
    "    keras.layers.Flatten(input_shape=(28, 28)),\n",
    "    keras.layers.Dense(128, activation='relu'),\n",
    "    keras.layers.Dense(10)\n",
    "])\n",
    "model.compile(optimizer='adam',\n",
    "              loss=tf.keras.losses.SparseCategoricalCrossentropy(from_logits=True),\n",
    "              metrics=['accuracy'])\n",
    "model.fit(train_images, train_labels, epochs=10)\n",
    "test_loss, test_acc = model.evaluate(test_images,  test_labels, verbose=2)\n",
    "\n",
    "print('\\nTest accuracy:', test_acc)"
   ]
  }
 ],
 "metadata": {
  "kaggle": {
   "accelerator": "none",
   "dataSources": [
    {
     "databundleVersionId": 12993472,
     "sourceId": 96164,
     "sourceType": "competition"
    }
   ],
   "dockerImageVersionId": 31089,
   "isGpuEnabled": false,
   "isInternetEnabled": true,
   "language": "python",
   "sourceType": "notebook"
  },
  "kernelspec": {
   "display_name": "Python 3",
   "language": "python",
   "name": "python3"
  },
  "language_info": {
   "codemirror_mode": {
    "name": "ipython",
    "version": 3
   },
   "file_extension": ".py",
   "mimetype": "text/x-python",
   "name": "python",
   "nbconvert_exporter": "python",
   "pygments_lexer": "ipython3",
   "version": "3.11.13"
  },
  "papermill": {
   "default_parameters": {},
   "duration": 113.352473,
   "end_time": "2025-07-24T19:05:19.505395",
   "environment_variables": {},
   "exception": null,
   "input_path": "__notebook__.ipynb",
   "output_path": "__notebook__.ipynb",
   "parameters": {},
   "start_time": "2025-07-24T19:03:26.152922",
   "version": "2.6.0"
  }
 },
 "nbformat": 4,
 "nbformat_minor": 5
}
